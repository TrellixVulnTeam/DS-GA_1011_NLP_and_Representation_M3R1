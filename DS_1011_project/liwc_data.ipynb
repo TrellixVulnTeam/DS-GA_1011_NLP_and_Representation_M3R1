{
 "cells": [
  {
   "cell_type": "code",
   "execution_count": 1,
   "metadata": {},
   "outputs": [],
   "source": [
    "import pandas as pd\n",
    "import pickle as pkl"
   ]
  },
  {
   "cell_type": "code",
   "execution_count": 2,
   "metadata": {},
   "outputs": [],
   "source": [
    "df = pkl.load(open('bert_data.pkl', 'rb'))"
   ]
  },
  {
   "cell_type": "code",
   "execution_count": 3,
   "metadata": {},
   "outputs": [
    {
     "data": {
      "text/html": [
       "<div>\n",
       "<style scoped>\n",
       "    .dataframe tbody tr th:only-of-type {\n",
       "        vertical-align: middle;\n",
       "    }\n",
       "\n",
       "    .dataframe tbody tr th {\n",
       "        vertical-align: top;\n",
       "    }\n",
       "\n",
       "    .dataframe thead th {\n",
       "        text-align: right;\n",
       "    }\n",
       "</style>\n",
       "<table border=\"1\" class=\"dataframe\">\n",
       "  <thead>\n",
       "    <tr style=\"text-align: right;\">\n",
       "      <th></th>\n",
       "      <th>label</th>\n",
       "      <th>title</th>\n",
       "      <th>selftext</th>\n",
       "      <th>title_body</th>\n",
       "    </tr>\n",
       "  </thead>\n",
       "  <tbody>\n",
       "    <tr>\n",
       "      <th>0</th>\n",
       "      <td>tested_positive</td>\n",
       "      <td>how easily is covid ACTUALLY transmitted?</td>\n",
       "      <td>So I go to university and I live with my 3 fri...</td>\n",
       "      <td>how easily is covid ACTUALLY transmitted?\\tSo ...</td>\n",
       "    </tr>\n",
       "    <tr>\n",
       "      <th>1</th>\n",
       "      <td>question</td>\n",
       "      <td>Something is wrong</td>\n",
       "      <td>Right now hospitals in the U.S. are at 30% cap...</td>\n",
       "      <td>Something is wrong\\tRight now hospitals in the...</td>\n",
       "    </tr>\n",
       "    <tr>\n",
       "      <th>2</th>\n",
       "      <td>tested_positive</td>\n",
       "      <td>Husband positive, rest of us - no symptoms</td>\n",
       "      <td>My husbands symptoms (which we mistook with co...</td>\n",
       "      <td>Husband positive, rest of us - no symptoms\\tMy...</td>\n",
       "    </tr>\n",
       "    <tr>\n",
       "      <th>3</th>\n",
       "      <td>tested_positive</td>\n",
       "      <td>How do you spend your time in isolation?</td>\n",
       "      <td>I have a really Bad runny nose, Kinda heavy in...</td>\n",
       "      <td>How do you spend your time in isolation?\\tI ha...</td>\n",
       "    </tr>\n",
       "    <tr>\n",
       "      <th>4</th>\n",
       "      <td>question</td>\n",
       "      <td>CVS test results</td>\n",
       "      <td>How long did it take you to get your results b...</td>\n",
       "      <td>CVS test results\\tHow long did it take you to ...</td>\n",
       "    </tr>\n",
       "    <tr>\n",
       "      <th>...</th>\n",
       "      <td>...</td>\n",
       "      <td>...</td>\n",
       "      <td>...</td>\n",
       "      <td>...</td>\n",
       "    </tr>\n",
       "    <tr>\n",
       "      <th>17204</th>\n",
       "      <td>question</td>\n",
       "      <td>please help determine if i have covid19</td>\n",
       "      <td>I‘ve been feeling sick since March 2nd\\nI‘ve h...</td>\n",
       "      <td>please help determine if i have covid19\\tI‘ve ...</td>\n",
       "    </tr>\n",
       "    <tr>\n",
       "      <th>17208</th>\n",
       "      <td>question</td>\n",
       "      <td>Exposed to confirmed case, do my symptoms soun...</td>\n",
       "      <td>I’m a student at a NYC university that’s recen...</td>\n",
       "      <td>Exposed to confirmed case, do my symptoms soun...</td>\n",
       "    </tr>\n",
       "    <tr>\n",
       "      <th>17211</th>\n",
       "      <td>question</td>\n",
       "      <td>Physician Assistant here. Covid19 positive ind...</td>\n",
       "      <td>[Been reading a lot about avoiding Ibuprofen f...</td>\n",
       "      <td>Physician Assistant here. Covid19 positive ind...</td>\n",
       "    </tr>\n",
       "    <tr>\n",
       "      <th>17212</th>\n",
       "      <td>question</td>\n",
       "      <td>Could it have been COVID19???</td>\n",
       "      <td>A few months ago I got pretty sick from a weir...</td>\n",
       "      <td>Could it have been COVID19???\\tA few months ag...</td>\n",
       "    </tr>\n",
       "    <tr>\n",
       "      <th>17215</th>\n",
       "      <td>question</td>\n",
       "      <td>Do I have COVID19?</td>\n",
       "      <td>So I have a cough. I had a sore throat for lik...</td>\n",
       "      <td>Do I have COVID19?\\tSo I have a cough. I had a...</td>\n",
       "    </tr>\n",
       "  </tbody>\n",
       "</table>\n",
       "<p>15410 rows × 4 columns</p>\n",
       "</div>"
      ],
      "text/plain": [
       "                 label                                              title  \\\n",
       "0      tested_positive          how easily is covid ACTUALLY transmitted?   \n",
       "1             question                                 Something is wrong   \n",
       "2      tested_positive         Husband positive, rest of us - no symptoms   \n",
       "3      tested_positive           How do you spend your time in isolation?   \n",
       "4             question                                   CVS test results   \n",
       "...                ...                                                ...   \n",
       "17204         question            please help determine if i have covid19   \n",
       "17208         question  Exposed to confirmed case, do my symptoms soun...   \n",
       "17211         question  Physician Assistant here. Covid19 positive ind...   \n",
       "17212         question                      Could it have been COVID19???   \n",
       "17215         question                                 Do I have COVID19?   \n",
       "\n",
       "                                                selftext  \\\n",
       "0      So I go to university and I live with my 3 fri...   \n",
       "1      Right now hospitals in the U.S. are at 30% cap...   \n",
       "2      My husbands symptoms (which we mistook with co...   \n",
       "3      I have a really Bad runny nose, Kinda heavy in...   \n",
       "4      How long did it take you to get your results b...   \n",
       "...                                                  ...   \n",
       "17204  I‘ve been feeling sick since March 2nd\\nI‘ve h...   \n",
       "17208  I’m a student at a NYC university that’s recen...   \n",
       "17211  [Been reading a lot about avoiding Ibuprofen f...   \n",
       "17212  A few months ago I got pretty sick from a weir...   \n",
       "17215  So I have a cough. I had a sore throat for lik...   \n",
       "\n",
       "                                              title_body  \n",
       "0      how easily is covid ACTUALLY transmitted?\\tSo ...  \n",
       "1      Something is wrong\\tRight now hospitals in the...  \n",
       "2      Husband positive, rest of us - no symptoms\\tMy...  \n",
       "3      How do you spend your time in isolation?\\tI ha...  \n",
       "4      CVS test results\\tHow long did it take you to ...  \n",
       "...                                                  ...  \n",
       "17204  please help determine if i have covid19\\tI‘ve ...  \n",
       "17208  Exposed to confirmed case, do my symptoms soun...  \n",
       "17211  Physician Assistant here. Covid19 positive ind...  \n",
       "17212  Could it have been COVID19???\\tA few months ag...  \n",
       "17215  Do I have COVID19?\\tSo I have a cough. I had a...  \n",
       "\n",
       "[15410 rows x 4 columns]"
      ]
     },
     "execution_count": 3,
     "metadata": {},
     "output_type": "execute_result"
    }
   ],
   "source": [
    "df"
   ]
  },
  {
   "cell_type": "code",
   "execution_count": 4,
   "metadata": {},
   "outputs": [],
   "source": [
    "df['title_body'] = df['title'] + df['selftext']"
   ]
  },
  {
   "cell_type": "code",
   "execution_count": 5,
   "metadata": {},
   "outputs": [],
   "source": [
    "df = df[['label', 'title_body']]"
   ]
  },
  {
   "cell_type": "code",
   "execution_count": 6,
   "metadata": {},
   "outputs": [],
   "source": [
    "d = {\n",
    "    'question': 0,\n",
    "    'presumed_positive': 1,\n",
    "    'tested_positive': 2\n",
    "}"
   ]
  },
  {
   "cell_type": "code",
   "execution_count": 7,
   "metadata": {},
   "outputs": [
    {
     "name": "stderr",
     "output_type": "stream",
     "text": [
      "/Library/Frameworks/Python.framework/Versions/3.7/lib/python3.7/site-packages/ipykernel_launcher.py:1: SettingWithCopyWarning: \n",
      "A value is trying to be set on a copy of a slice from a DataFrame.\n",
      "Try using .loc[row_indexer,col_indexer] = value instead\n",
      "\n",
      "See the caveats in the documentation: https://pandas.pydata.org/pandas-docs/stable/user_guide/indexing.html#returning-a-view-versus-a-copy\n",
      "  \"\"\"Entry point for launching an IPython kernel.\n"
     ]
    }
   ],
   "source": [
    "df['label'] = df['label'].map(d)"
   ]
  },
  {
   "cell_type": "code",
   "execution_count": 9,
   "metadata": {},
   "outputs": [
    {
     "data": {
      "text/plain": [
       "0    8687\n",
       "2    5241\n",
       "1    1482\n",
       "Name: label, dtype: int64"
      ]
     },
     "execution_count": 9,
     "metadata": {},
     "output_type": "execute_result"
    }
   ],
   "source": [
    "df['label'].value_counts()"
   ]
  },
  {
   "cell_type": "code",
   "execution_count": 14,
   "metadata": {},
   "outputs": [
    {
     "ename": "TypeError",
     "evalue": "sequence item 1089: expected str instance, float found",
     "traceback": [
      "\u001b[0;31m---------------------------------------------------------------------------\u001b[0m",
      "\u001b[0;31mTypeError\u001b[0m                                 Traceback (most recent call last)",
      "\u001b[0;32m<ipython-input-14-c619ac332360>\u001b[0m in \u001b[0;36m<module>\u001b[0;34m\u001b[0m\n\u001b[0;32m----> 1\u001b[0;31m \u001b[0mquestion\u001b[0m \u001b[0;34m=\u001b[0m \u001b[0;34m' '\u001b[0m\u001b[0;34m.\u001b[0m\u001b[0mjoin\u001b[0m\u001b[0;34m(\u001b[0m\u001b[0mdf\u001b[0m\u001b[0;34m[\u001b[0m\u001b[0mdf\u001b[0m\u001b[0;34m[\u001b[0m\u001b[0;34m'label'\u001b[0m\u001b[0;34m]\u001b[0m \u001b[0;34m==\u001b[0m \u001b[0;36m0\u001b[0m\u001b[0;34m]\u001b[0m\u001b[0;34m.\u001b[0m\u001b[0mtitle_body\u001b[0m\u001b[0;34m)\u001b[0m\u001b[0;34m\u001b[0m\u001b[0;34m\u001b[0m\u001b[0m\n\u001b[0m\u001b[1;32m      2\u001b[0m \u001b[0mpresumed_positive\u001b[0m \u001b[0;34m=\u001b[0m \u001b[0;34m' '\u001b[0m\u001b[0;34m.\u001b[0m\u001b[0mjoin\u001b[0m\u001b[0;34m(\u001b[0m\u001b[0mdf\u001b[0m\u001b[0;34m[\u001b[0m\u001b[0mdf\u001b[0m\u001b[0;34m[\u001b[0m\u001b[0;34m'label'\u001b[0m\u001b[0;34m]\u001b[0m \u001b[0;34m==\u001b[0m \u001b[0;36m1\u001b[0m\u001b[0;34m]\u001b[0m\u001b[0;34m.\u001b[0m\u001b[0mtitle_body\u001b[0m\u001b[0;34m)\u001b[0m\u001b[0;34m\u001b[0m\u001b[0;34m\u001b[0m\u001b[0m\n\u001b[1;32m      3\u001b[0m \u001b[0mtested_positive\u001b[0m \u001b[0;34m=\u001b[0m \u001b[0;34m' '\u001b[0m\u001b[0;34m.\u001b[0m\u001b[0mjoin\u001b[0m\u001b[0;34m(\u001b[0m\u001b[0mdf\u001b[0m\u001b[0;34m[\u001b[0m\u001b[0mdf\u001b[0m\u001b[0;34m[\u001b[0m\u001b[0;34m'label'\u001b[0m\u001b[0;34m]\u001b[0m \u001b[0;34m==\u001b[0m \u001b[0;36m2\u001b[0m\u001b[0;34m]\u001b[0m\u001b[0;34m.\u001b[0m\u001b[0mtitle_body\u001b[0m\u001b[0;34m)\u001b[0m\u001b[0;34m\u001b[0m\u001b[0;34m\u001b[0m\u001b[0m\n",
      "\u001b[0;31mTypeError\u001b[0m: sequence item 1089: expected str instance, float found"
     ],
     "output_type": "error"
    }
   ],
   "source": [
    "question = ' '.join(df[df['label'] == 0].title_body)\n",
    "presumed_positive = ' '.join(df[df['label'] == 1].title_body)\n",
    "tested_positive = ' '.join(df[df['label'] == 2].title_body)"
   ]
  },
  {
   "cell_type": "code",
   "execution_count": 16,
   "metadata": {},
   "outputs": [
    {
     "data": {
      "text/plain": [
       "nan"
      ]
     },
     "execution_count": 16,
     "metadata": {},
     "output_type": "execute_result"
    }
   ],
   "source": [
    "df[df['label'] == 0].title_body.iloc[1089]"
   ]
  },
  {
   "cell_type": "code",
   "execution_count": 20,
   "metadata": {},
   "outputs": [],
   "source": [
    "text_file = open(\"question.txt\", \"w\")\n",
    "n = text_file.write(question)\n",
    "text_file.close()\n",
    "\n",
    "text_file = open(\"presumed_positive.txt\", \"w\")\n",
    "n = text_file.write(presumed_positive)\n",
    "text_file.close()\n",
    "\n",
    "text_file = open(\"tested_positive.txt\", \"w\")\n",
    "n = text_file.write(tested_positive)\n",
    "text_file.close()"
   ]
  },
  {
   "cell_type": "code",
   "execution_count": null,
   "metadata": {},
   "outputs": [],
   "source": []
  }
 ],
 "metadata": {
  "kernelspec": {
   "display_name": "Python 3",
   "language": "python",
   "name": "python3"
  },
  "language_info": {
   "codemirror_mode": {
    "name": "ipython",
    "version": 3
   },
   "file_extension": ".py",
   "mimetype": "text/x-python",
   "name": "python",
   "nbconvert_exporter": "python",
   "pygments_lexer": "ipython3",
   "version": "3.7.3"
  }
 },
 "nbformat": 4,
 "nbformat_minor": 1
}
